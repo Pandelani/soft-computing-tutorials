{
 "cells": [
  {
   "cell_type": "markdown",
   "metadata": {},
   "source": [
    "### Experiment 4\n",
    "1. maxproduct composition\n",
    "2. maxmin composition"
   ]
  },
  {
   "cell_type": "code",
   "execution_count": 12,
   "metadata": {
    "collapsed": true
   },
   "outputs": [],
   "source": [
    "import numpy as np"
   ]
  },
  {
   "cell_type": "code",
   "execution_count": 133,
   "metadata": {
    "collapsed": true
   },
   "outputs": [],
   "source": [
    "def maxproduct(a, b):\n",
    "    # a is a matrix of size (x,y)\n",
    "    # b is a matrix of size (u,v)\n",
    "    \n",
    "    if a.ndim < 2:\n",
    "        a = np.atleast_2d(s)\n",
    "    \n",
    "    if b.ndim < 2:\n",
    "        b = np.atleast_2d(b)\n",
    "    \n",
    "    # r is the maxproduct of size (x,v)\n",
    "    m = a.shape[0]\n",
    "    n = b.shape[1]\n",
    "    \n",
    "    # creating a matrix of size (x, v) filled with zeros\n",
    "    r = np.zeros((m, n))\n",
    "    \n",
    "    for i in range(m):\n",
    "        for j in range(n):\n",
    "            # the resultant is each max(a.row x b.column)\n",
    "            r[i, j] = np.amax(np.multiply(a[i,:], np.transpose(b[:,j])))\n",
    "    \n",
    "    return r"
   ]
  },
  {
   "cell_type": "code",
   "execution_count": 144,
   "metadata": {
    "collapsed": true
   },
   "outputs": [],
   "source": [
    "def maxmin(a, b):\n",
    "    if a.ndim < 2:\n",
    "        a = np.atleast_2d(a)\n",
    "        \n",
    "    if b.ndim < 2:\n",
    "        b = np.atleast_2d(b)\n",
    "        \n",
    "    m = a.shape[0]\n",
    "    n = b.shape[1]\n",
    "    \n",
    "    r = np.zeros((m, n))\n",
    "    \n",
    "    for i in range(m):\n",
    "        for j in range(n):\n",
    "            # the resultant matrix is max(min(a[i, k], b[k, j]))\n",
    "            r[i, j] = np.amax(np.fmin(a[i,:], b[:,j]))\n",
    "            \n",
    "    return r"
   ]
  },
  {
   "cell_type": "code",
   "execution_count": 145,
   "metadata": {
    "collapsed": false
   },
   "outputs": [
    {
     "data": {
      "text/plain": [
       "array([[ 0.1,  0.2,  0. ,  1. ],\n",
       "       [ 0.3,  0.3,  0. ,  0.2],\n",
       "       [ 0.8,  0.9,  1. ,  0.4]])"
      ]
     },
     "execution_count": 145,
     "metadata": {},
     "output_type": "execute_result"
    }
   ],
   "source": [
    "a = np.asarray([[0.1, 0.2, 0.0, 1.0], [0.3, 0.3, 0.0, 0.2], [0.8, 0.9, 1.0, 0.4]])\n",
    "a"
   ]
  },
  {
   "cell_type": "code",
   "execution_count": 146,
   "metadata": {
    "collapsed": false
   },
   "outputs": [
    {
     "data": {
      "text/plain": [
       "array([[ 0.9,  0. ,  0.3],\n",
       "       [ 0.2,  1. ,  0.8],\n",
       "       [ 0.8,  0. ,  0.7],\n",
       "       [ 0.4,  0.2,  0.3]])"
      ]
     },
     "execution_count": 146,
     "metadata": {},
     "output_type": "execute_result"
    }
   ],
   "source": [
    "b = np.asarray([[0.9, 0.0, 0.3], [0.2, 1.0, 0.8], [0.8, 0.0, 0.7], [0.4, 0.2, 0.3]])\n",
    "b"
   ]
  },
  {
   "cell_type": "code",
   "execution_count": 147,
   "metadata": {
    "collapsed": false
   },
   "outputs": [
    {
     "data": {
      "text/plain": [
       "array([[ 0.4 ,  0.2 ,  0.3 ],\n",
       "       [ 0.27,  0.3 ,  0.24],\n",
       "       [ 0.8 ,  0.9 ,  0.72]])"
      ]
     },
     "execution_count": 147,
     "metadata": {},
     "output_type": "execute_result"
    }
   ],
   "source": [
    "maxproduct(a, b)"
   ]
  },
  {
   "cell_type": "code",
   "execution_count": 148,
   "metadata": {
    "collapsed": false
   },
   "outputs": [
    {
     "data": {
      "text/plain": [
       "array([[ 0.4,  0.2,  0.3],\n",
       "       [ 0.3,  0.3,  0.3],\n",
       "       [ 0.8,  0.9,  0.8]])"
      ]
     },
     "execution_count": 148,
     "metadata": {},
     "output_type": "execute_result"
    }
   ],
   "source": [
    "maxmin(a, b)"
   ]
  }
 ],
 "metadata": {
  "kernelspec": {
   "display_name": "Python 3",
   "language": "python",
   "name": "python3"
  },
  "language_info": {
   "codemirror_mode": {
    "name": "ipython",
    "version": 3
   },
   "file_extension": ".py",
   "mimetype": "text/x-python",
   "name": "python",
   "nbconvert_exporter": "python",
   "pygments_lexer": "ipython3",
   "version": "3.5.2"
  }
 },
 "nbformat": 4,
 "nbformat_minor": 1
}
