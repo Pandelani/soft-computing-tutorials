{
 "cells": [
  {
   "cell_type": "code",
   "execution_count": 251,
   "metadata": {
    "collapsed": false
   },
   "outputs": [],
   "source": [
    "import numpy as np\n",
    "import matplotlib.pyplot as plt\n",
    "from scipy.interpolate import interp1d\n",
    "% matplotlib inline"
   ]
  },
  {
   "cell_type": "code",
   "execution_count": 252,
   "metadata": {
    "collapsed": false
   },
   "outputs": [
    {
     "data": {
      "text/plain": [
       "{(0.12, 1), (0.32, 2), (0.45, 5), (0.62, 4), (0.76, 3)}"
      ]
     },
     "execution_count": 252,
     "metadata": {},
     "output_type": "execute_result"
    }
   ],
   "source": [
    "# a fuzzy set can be depicted in python as a set of tuples\n",
    "a = set()\n",
    "a.add((0.12, 1))\n",
    "a.add((0.32, 2))\n",
    "a.add((0.76, 3))\n",
    "a.add((0.62, 4))\n",
    "a.add((0.45, 5))\n",
    "\n",
    "a"
   ]
  },
  {
   "cell_type": "code",
   "execution_count": 253,
   "metadata": {
    "collapsed": false
   },
   "outputs": [
    {
     "data": {
      "text/plain": [
       "{(0.0, 1), (0.1, 2), (0.5, 3), (0.76, 4), (0.9, 5)}"
      ]
     },
     "execution_count": 253,
     "metadata": {},
     "output_type": "execute_result"
    }
   ],
   "source": [
    "b = set()\n",
    "b.add((0.00, 1))\n",
    "b.add((0.10, 2))\n",
    "b.add((0.50, 3))\n",
    "b.add((0.76, 4))\n",
    "b.add((0.90, 5))\n",
    "\n",
    "b"
   ]
  },
  {
   "cell_type": "code",
   "execution_count": 254,
   "metadata": {
    "collapsed": false
   },
   "outputs": [],
   "source": [
    "def union(a, b):\n",
    "    a = list(a)\n",
    "    b = list(b)\n",
    "    \n",
    "    c = set()\n",
    "    \n",
    "    for i in a:\n",
    "        element = i[1]\n",
    "        j       = next((x for x in b if element == x[1]), (0, element))\n",
    "        \n",
    "        c.add((max(i[0], j[0]), element))\n",
    "        \n",
    "    return c"
   ]
  },
  {
   "cell_type": "code",
   "execution_count": 281,
   "metadata": {
    "collapsed": false
   },
   "outputs": [
    {
     "data": {
      "text/plain": [
       "{(0.5, 3), (0.76, 4), (0.9, 5), (1.0, 2)}"
      ]
     },
     "execution_count": 281,
     "metadata": {},
     "output_type": "execute_result"
    }
   ],
   "source": [
    "union(a, b)"
   ]
  },
  {
   "cell_type": "code",
   "execution_count": 256,
   "metadata": {
    "collapsed": true
   },
   "outputs": [],
   "source": [
    "def intersect(a, b):\n",
    "    a = list(a)\n",
    "    b = list(b)\n",
    "    \n",
    "    c = set()\n",
    "    \n",
    "    for i in a:\n",
    "        element = i[1]\n",
    "        j       = next((x for x in b if element == x[1]), (0, element))\n",
    "        \n",
    "        c.add((min(i[0], j[0]), element))\n",
    "        \n",
    "    return c"
   ]
  },
  {
   "cell_type": "code",
   "execution_count": 257,
   "metadata": {
    "collapsed": false
   },
   "outputs": [
    {
     "data": {
      "text/plain": [
       "{(0.0, 1), (0.1, 2), (0.45, 5), (0.5, 3), (0.62, 4)}"
      ]
     },
     "execution_count": 257,
     "metadata": {},
     "output_type": "execute_result"
    }
   ],
   "source": [
    "intersect(a, b)"
   ]
  },
  {
   "cell_type": "code",
   "execution_count": 258,
   "metadata": {
    "collapsed": true
   },
   "outputs": [],
   "source": [
    "def complement(x):\n",
    "    y = set()\n",
    "    \n",
    "    for i in x:\n",
    "        i = (1.0 - i[0], i[1])\n",
    "        y.add(i)\n",
    "        \n",
    "    return y"
   ]
  },
  {
   "cell_type": "code",
   "execution_count": 259,
   "metadata": {
    "collapsed": false
   },
   "outputs": [
    {
     "data": {
      "text/plain": [
       "{(0.24, 3), (0.38, 4), (0.55, 5), (0.6799999999999999, 2), (0.88, 1)}"
      ]
     },
     "execution_count": 259,
     "metadata": {},
     "output_type": "execute_result"
    }
   ],
   "source": [
    "complement(a)"
   ]
  },
  {
   "cell_type": "code",
   "execution_count": 260,
   "metadata": {
    "collapsed": false
   },
   "outputs": [
    {
     "data": {
      "text/plain": [
       "{(0.09999999999999998, 5), (0.24, 4), (0.5, 3), (0.9, 2), (1.0, 1)}"
      ]
     },
     "execution_count": 260,
     "metadata": {},
     "output_type": "execute_result"
    }
   ],
   "source": [
    "complement(b)"
   ]
  },
  {
   "cell_type": "code",
   "execution_count": 261,
   "metadata": {
    "collapsed": true
   },
   "outputs": [],
   "source": [
    "def minus(a, b):\n",
    "    return intersect(a, complement(b))"
   ]
  },
  {
   "cell_type": "code",
   "execution_count": 262,
   "metadata": {
    "collapsed": false
   },
   "outputs": [
    {
     "data": {
      "text/plain": [
       "{(0.09999999999999998, 5), (0.12, 1), (0.24, 4), (0.32, 2), (0.5, 3)}"
      ]
     },
     "execution_count": 262,
     "metadata": {},
     "output_type": "execute_result"
    }
   ],
   "source": [
    "minus(a, b)"
   ]
  },
  {
   "cell_type": "code",
   "execution_count": 263,
   "metadata": {
    "collapsed": true
   },
   "outputs": [],
   "source": [
    "def plot(plots):\n",
    "    sets, legends = list(zip(*plots))\n",
    "    \n",
    "    for i in sets:\n",
    "        y, x = list(zip(*i))\n",
    "        f    = interp1d(x, y, kind = 'cubic')\n",
    "        \n",
    "        x    = np.linspace(min(x), max(x), 10000)\n",
    "        plt.plot(x, f(x), '--')\n",
    "        \n",
    "    plt.legend(legends)\n",
    "    plt.grid()"
   ]
  },
  {
   "cell_type": "code",
   "execution_count": 264,
   "metadata": {
    "collapsed": false
   },
   "outputs": [
    {
     "data": {
      "image/png": "[encoded data removed]",
      "text/plain": [
       "<matplotlib.figure.Figure at 0x7f2793a24be0>"
      ]
     },
     "metadata": {},
     "output_type": "display_data"
    }
   ],
   "source": [
    "plot([(a, 'A'),\n",
    "      (b, 'B'),\n",
    "      (union(a, b), 'union'),\n",
    "      (intersect(a, b), 'intersect'),\n",
    "      (complement(a), \"A'\"),\n",
    "      (complement(b), \"B'\"),\n",
    "      (minus(a, b), 'A - B')])"
   ]
  },
  {
   "cell_type": "code",
   "execution_count": 265,
   "metadata": {
    "collapsed": false
   },
   "outputs": [
    {
     "data": {
      "text/plain": [
       "{(0.1, 1), (0.31, 3), (0.7, 4), (0.98, 5)}"
      ]
     },
     "execution_count": 265,
     "metadata": {},
     "output_type": "execute_result"
    }
   ],
   "source": [
    "c = set()\n",
    "c.add((0.10, 1))\n",
    "c.add((0.31, 3))\n",
    "c.add((0.70, 4))\n",
    "c.add((0.98, 5))\n",
    "\n",
    "c"
   ]
  },
  {
   "cell_type": "code",
   "execution_count": 266,
   "metadata": {
    "collapsed": false
   },
   "outputs": [],
   "source": [
    "# checking the possibility of DeMorgan's Law\n",
    "def demorgan(a, b):\n",
    "    lhs = complement(union(a, b))\n",
    "    rhs = intersect(complement(a), complement(b))\n",
    "    print(\"~(A U B): \" + str(lhs))\n",
    "    print(\"~ A ∩ ~B: \" + str(rhs))\n",
    "    \n",
    "    return lhs == rhs"
   ]
  },
  {
   "cell_type": "code",
   "execution_count": 267,
   "metadata": {
    "collapsed": false
   },
   "outputs": [
    {
     "name": "stdout",
     "output_type": "stream",
     "text": [
      "~(A U B): {(0.88, 1), (0.24, 3), (0.09999999999999998, 5), (0.6799999999999999, 2), (0.24, 4)}\n",
      "~ A ∩ ~B: {(0.88, 1), (0.24, 3), (0.09999999999999998, 5), (0.6799999999999999, 2), (0.24, 4)}\n"
     ]
    },
    {
     "data": {
      "text/plain": [
       "True"
      ]
     },
     "execution_count": 267,
     "metadata": {},
     "output_type": "execute_result"
    }
   ],
   "source": [
    "demorgan(a, b)"
   ]
  },
  {
   "cell_type": "code",
   "execution_count": 268,
   "metadata": {
    "collapsed": true
   },
   "outputs": [],
   "source": [
    "def associative(a, b, c, function):\n",
    "    lhs = function(a, function(b, c))\n",
    "    rhs = function(function(a, b), c)\n",
    "    \n",
    "    print(\"A x (B x C): \" + str(lhs))\n",
    "    print(\"(A x B) x C: \" + str(rhs))\n",
    "    \n",
    "    return lhs == rhs"
   ]
  },
  {
   "cell_type": "code",
   "execution_count": 269,
   "metadata": {
    "collapsed": false
   },
   "outputs": [
    {
     "name": "stdout",
     "output_type": "stream",
     "text": [
      "A x (B x C): {(0.12, 1), (0.76, 3), (0.98, 5), (0.32, 2), (0.76, 4)}\n",
      "(A x B) x C: {(0.12, 1), (0.76, 3), (0.98, 5), (0.32, 2), (0.76, 4)}\n"
     ]
    },
    {
     "data": {
      "text/plain": [
       "True"
      ]
     },
     "execution_count": 269,
     "metadata": {},
     "output_type": "execute_result"
    }
   ],
   "source": [
    "associative(a, b, c, union)"
   ]
  },
  {
   "cell_type": "code",
   "execution_count": 270,
   "metadata": {
    "collapsed": false
   },
   "outputs": [
    {
     "name": "stdout",
     "output_type": "stream",
     "text": [
      "A x (B x C): {(0.0, 1), (0.31, 3), (0.45, 5), (0, 2), (0.62, 4)}\n",
      "(A x B) x C: {(0.0, 1), (0.31, 3), (0.45, 5), (0, 2), (0.62, 4)}\n"
     ]
    },
    {
     "data": {
      "text/plain": [
       "True"
      ]
     },
     "execution_count": 270,
     "metadata": {},
     "output_type": "execute_result"
    }
   ],
   "source": [
    "associative(a, b, c, intersect)"
   ]
  },
  {
   "cell_type": "code",
   "execution_count": 271,
   "metadata": {
    "collapsed": true
   },
   "outputs": [],
   "source": [
    "def distributive(a, b, c, fa, fb):\n",
    "    lhs = fb(fa(a, b), c)\n",
    "    rhs = fa(fb(a, c), fb(b, c))\n",
    "    \n",
    "    print(\"(A x B) y C)     : \" + str(lhs))\n",
    "    print(\"(A x C) y (B x C): \" + str(rhs))\n",
    "    \n",
    "    return lhs == rhs"
   ]
  },
  {
   "cell_type": "code",
   "execution_count": 272,
   "metadata": {
    "collapsed": false
   },
   "outputs": [
    {
     "name": "stdout",
     "output_type": "stream",
     "text": [
      "(A x B) y C)     : {(0.1, 1), (0.31, 3), (0.9, 5), (0, 2), (0.7, 4)}\n",
      "(A x C) y (B x C): {(0.1, 1), (0.31, 3), (0.9, 5), (0, 2), (0.7, 4)}\n"
     ]
    },
    {
     "data": {
      "text/plain": [
       "True"
      ]
     },
     "execution_count": 272,
     "metadata": {},
     "output_type": "execute_result"
    }
   ],
   "source": [
    "distributive(a, b, c, union, intersect)"
   ]
  },
  {
   "cell_type": "code",
   "execution_count": 273,
   "metadata": {
    "collapsed": false
   },
   "outputs": [
    {
     "name": "stdout",
     "output_type": "stream",
     "text": [
      "(A x B) y C)     : {(0.1, 1), (0.5, 3), (0.98, 5), (0.1, 2), (0.7, 4)}\n",
      "(A x C) y (B x C): {(0.1, 1), (0.5, 3), (0.98, 5), (0.1, 2), (0.7, 4)}\n"
     ]
    },
    {
     "data": {
      "text/plain": [
       "True"
      ]
     },
     "execution_count": 273,
     "metadata": {},
     "output_type": "execute_result"
    }
   ],
   "source": [
    "distributive(a, b, c, intersect, union)"
   ]
  },
  {
   "cell_type": "code",
   "execution_count": 274,
   "metadata": {
    "collapsed": true
   },
   "outputs": [],
   "source": [
    "def commutative(a, b, function):\n",
    "    lhs = function(a, b)\n",
    "    rhs = function(b, a)\n",
    "    \n",
    "    print(\"A x B: \" + str(lhs))\n",
    "    print(\"B x A: \" + str(rhs))\n",
    "    \n",
    "    return lhs == rhs"
   ]
  },
  {
   "cell_type": "code",
   "execution_count": 275,
   "metadata": {
    "collapsed": false
   },
   "outputs": [
    {
     "name": "stdout",
     "output_type": "stream",
     "text": [
      "A x B: {(0.12, 1), (0.76, 3), (0.9, 5), (0.32, 2), (0.76, 4)}\n",
      "B x A: {(0.12, 1), (0.76, 3), (0.9, 5), (0.32, 2), (0.76, 4)}\n"
     ]
    },
    {
     "data": {
      "text/plain": [
       "True"
      ]
     },
     "execution_count": 275,
     "metadata": {},
     "output_type": "execute_result"
    }
   ],
   "source": [
    "commutative(a, b, union)"
   ]
  },
  {
   "cell_type": "code",
   "execution_count": 276,
   "metadata": {
    "collapsed": false
   },
   "outputs": [
    {
     "name": "stdout",
     "output_type": "stream",
     "text": [
      "A x B: {(0.0, 1), (0.5, 3), (0.45, 5), (0.1, 2), (0.62, 4)}\n",
      "B x A: {(0.0, 1), (0.5, 3), (0.45, 5), (0.1, 2), (0.62, 4)}\n"
     ]
    },
    {
     "data": {
      "text/plain": [
       "True"
      ]
     },
     "execution_count": 276,
     "metadata": {},
     "output_type": "execute_result"
    }
   ],
   "source": [
    "commutative(a, b, intersect)"
   ]
  },
  {
   "cell_type": "code",
   "execution_count": 277,
   "metadata": {
    "collapsed": false
   },
   "outputs": [
    {
     "data": {
      "text/plain": [
       "{(0.2, 5), (0.3, 4), (0.5, 3), (1.0, 2)}"
      ]
     },
     "execution_count": 277,
     "metadata": {},
     "output_type": "execute_result"
    }
   ],
   "source": [
    "# a fuzzy set can be depicted in python as a set of tuples\n",
    "a = set()\n",
    "a.add((1.00, 2))\n",
    "a.add((0.50, 3))\n",
    "a.add((0.30, 4))\n",
    "a.add((0.20, 5))\n",
    "\n",
    "a"
   ]
  },
  {
   "cell_type": "code",
   "execution_count": 278,
   "metadata": {
    "collapsed": false
   },
   "outputs": [],
   "source": [
    "def extension(x, function):\n",
    "    y = set()\n",
    "    \n",
    "    for i in x:\n",
    "        y.add((i[0], function(i[1])))\n",
    "        \n",
    "    return y"
   ]
  },
  {
   "cell_type": "code",
   "execution_count": 279,
   "metadata": {
    "collapsed": false
   },
   "outputs": [
    {
     "data": {
      "text/plain": [
       "{(0.2, 25), (0.3, 16), (0.5, 9), (1.0, 4)}"
      ]
     },
     "execution_count": 279,
     "metadata": {},
     "output_type": "execute_result"
    }
   ],
   "source": [
    "extension(a, lambda x: np.power(x, 2)) # adding the extension principle for f(x) = x^2"
   ]
  },
  {
   "cell_type": "code",
   "execution_count": 280,
   "metadata": {
    "collapsed": false
   },
   "outputs": [
    {
     "data": {
      "text/plain": [
       "{(0.2, 25), (0.3, 24), (0.5, 23), (1.0, 22)}"
      ]
     },
     "execution_count": 280,
     "metadata": {},
     "output_type": "execute_result"
    }
   ],
   "source": [
    "extension(a, lambda x: x + 20) # adding the extension principle for f(x) = x + 20"
   ]
  }
 ],
 "metadata": {
  "kernelspec": {
   "display_name": "Python 3",
   "language": "python",
   "name": "python3"
  },
  "language_info": {
   "codemirror_mode": {
    "name": "ipython",
    "version": 3
   },
   "file_extension": ".py",
   "mimetype": "text/x-python",
   "name": "python",
   "nbconvert_exporter": "python",
   "pygments_lexer": "ipython3",
   "version": "3.5.2"
  }
 },
 "nbformat": 4,
 "nbformat_minor": 1
}
